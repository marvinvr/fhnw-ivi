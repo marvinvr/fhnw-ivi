{
 "cells": [
  {
   "cell_type": "markdown",
   "source": [
    "# Data Preparation"
   ],
   "metadata": {
    "collapsed": false
   }
  },
  {
   "cell_type": "markdown",
   "source": [
    "## Imports"
   ],
   "metadata": {
    "collapsed": false
   }
  },
  {
   "cell_type": "code",
   "execution_count": 972,
   "metadata": {
    "collapsed": true
   },
   "outputs": [],
   "source": [
    "import pandas as pd\n",
    "import numpy as np\n",
    "\n",
    "from pathlib import Path\n",
    "from joblib import dump"
   ]
  },
  {
   "cell_type": "markdown",
   "source": [
    "### Data Import"
   ],
   "metadata": {
    "collapsed": false
   }
  },
  {
   "cell_type": "code",
   "execution_count": 973,
   "outputs": [
    {
     "data": {
      "text/plain": "     stichtag  direktion_code                       direktion_name  \\\n0  2020-12-31               1      Regierungsrat und Staatskanzlei   \n1  2020-12-31               1      Regierungsrat und Staatskanzlei   \n2  2020-12-31               2  Direktion der Justiz und des Innern   \n3  2020-12-31               2  Direktion der Justiz und des Innern   \n4  2020-12-31               2  Direktion der Justiz und des Innern   \n\n   amt_bereich_code                 amt_bereich_name indikator  wert  \\\n0              1000  Regierungsrat und Staatskanzlei    Frauen    27   \n1              1000  Regierungsrat und Staatskanzlei   Maenner    43   \n2              2201               Generalsekretariat    Frauen    41   \n3              2201               Generalsekretariat   Maenner    44   \n4              2204               Staatsanwaltschaft    Frauen   289   \n\n                             einheit  \\\n0  Anstellungsverhaeltnisse [Anzahl]   \n1  Anstellungsverhaeltnisse [Anzahl]   \n2  Anstellungsverhaeltnisse [Anzahl]   \n3  Anstellungsverhaeltnisse [Anzahl]   \n4  Anstellungsverhaeltnisse [Anzahl]   \n\n                                         anmerkung_1  anmerkung_2  \n0  Anzahl Anstellungen ohne Uebriges Personal (Mi...          NaN  \n1  Anzahl Anstellungen ohne Uebriges Personal (Mi...          NaN  \n2  Anzahl Anstellungen ohne Uebriges Personal (Mi...          NaN  \n3  Anzahl Anstellungen ohne Uebriges Personal (Mi...          NaN  \n4  Anzahl Anstellungen ohne Uebriges Personal (Mi...          NaN  ",
      "text/html": "<div>\n<style scoped>\n    .dataframe tbody tr th:only-of-type {\n        vertical-align: middle;\n    }\n\n    .dataframe tbody tr th {\n        vertical-align: top;\n    }\n\n    .dataframe thead th {\n        text-align: right;\n    }\n</style>\n<table border=\"1\" class=\"dataframe\">\n  <thead>\n    <tr style=\"text-align: right;\">\n      <th></th>\n      <th>stichtag</th>\n      <th>direktion_code</th>\n      <th>direktion_name</th>\n      <th>amt_bereich_code</th>\n      <th>amt_bereich_name</th>\n      <th>indikator</th>\n      <th>wert</th>\n      <th>einheit</th>\n      <th>anmerkung_1</th>\n      <th>anmerkung_2</th>\n    </tr>\n  </thead>\n  <tbody>\n    <tr>\n      <th>0</th>\n      <td>2020-12-31</td>\n      <td>1</td>\n      <td>Regierungsrat und Staatskanzlei</td>\n      <td>1000</td>\n      <td>Regierungsrat und Staatskanzlei</td>\n      <td>Frauen</td>\n      <td>27</td>\n      <td>Anstellungsverhaeltnisse [Anzahl]</td>\n      <td>Anzahl Anstellungen ohne Uebriges Personal (Mi...</td>\n      <td>NaN</td>\n    </tr>\n    <tr>\n      <th>1</th>\n      <td>2020-12-31</td>\n      <td>1</td>\n      <td>Regierungsrat und Staatskanzlei</td>\n      <td>1000</td>\n      <td>Regierungsrat und Staatskanzlei</td>\n      <td>Maenner</td>\n      <td>43</td>\n      <td>Anstellungsverhaeltnisse [Anzahl]</td>\n      <td>Anzahl Anstellungen ohne Uebriges Personal (Mi...</td>\n      <td>NaN</td>\n    </tr>\n    <tr>\n      <th>2</th>\n      <td>2020-12-31</td>\n      <td>2</td>\n      <td>Direktion der Justiz und des Innern</td>\n      <td>2201</td>\n      <td>Generalsekretariat</td>\n      <td>Frauen</td>\n      <td>41</td>\n      <td>Anstellungsverhaeltnisse [Anzahl]</td>\n      <td>Anzahl Anstellungen ohne Uebriges Personal (Mi...</td>\n      <td>NaN</td>\n    </tr>\n    <tr>\n      <th>3</th>\n      <td>2020-12-31</td>\n      <td>2</td>\n      <td>Direktion der Justiz und des Innern</td>\n      <td>2201</td>\n      <td>Generalsekretariat</td>\n      <td>Maenner</td>\n      <td>44</td>\n      <td>Anstellungsverhaeltnisse [Anzahl]</td>\n      <td>Anzahl Anstellungen ohne Uebriges Personal (Mi...</td>\n      <td>NaN</td>\n    </tr>\n    <tr>\n      <th>4</th>\n      <td>2020-12-31</td>\n      <td>2</td>\n      <td>Direktion der Justiz und des Innern</td>\n      <td>2204</td>\n      <td>Staatsanwaltschaft</td>\n      <td>Frauen</td>\n      <td>289</td>\n      <td>Anstellungsverhaeltnisse [Anzahl]</td>\n      <td>Anzahl Anstellungen ohne Uebriges Personal (Mi...</td>\n      <td>NaN</td>\n    </tr>\n  </tbody>\n</table>\n</div>"
     },
     "execution_count": 973,
     "metadata": {},
     "output_type": "execute_result"
    }
   ],
   "source": [
    "source_path = Path('../data/raw/employees_zurich.csv')\n",
    "df = pd.read_csv(source_path)\n",
    "\n",
    "df.head()"
   ],
   "metadata": {
    "collapsed": false
   }
  },
  {
   "cell_type": "code",
   "execution_count": 974,
   "outputs": [
    {
     "name": "stdout",
     "output_type": "stream",
     "text": [
      "<class 'pandas.core.frame.DataFrame'>\n",
      "RangeIndex: 768 entries, 0 to 767\n",
      "Data columns (total 10 columns):\n",
      " #   Column            Non-Null Count  Dtype  \n",
      "---  ------            --------------  -----  \n",
      " 0   stichtag          768 non-null    object \n",
      " 1   direktion_code    768 non-null    int64  \n",
      " 2   direktion_name    768 non-null    object \n",
      " 3   amt_bereich_code  768 non-null    int64  \n",
      " 4   amt_bereich_name  768 non-null    object \n",
      " 5   indikator         768 non-null    object \n",
      " 6   wert              768 non-null    int64  \n",
      " 7   einheit           768 non-null    object \n",
      " 8   anmerkung_1       768 non-null    object \n",
      " 9   anmerkung_2       0 non-null      float64\n",
      "dtypes: float64(1), int64(3), object(6)\n",
      "memory usage: 60.1+ KB\n"
     ]
    }
   ],
   "source": [
    "df.info()"
   ],
   "metadata": {
    "collapsed": false
   }
  },
  {
   "cell_type": "code",
   "execution_count": 975,
   "outputs": [
    {
     "data": {
      "text/plain": "       direktion_code  amt_bereich_code          wert  anmerkung_2\ncount      768.000000        768.000000    768.000000          0.0\nmean         4.416667       4689.958333    220.325521          NaN\nstd          2.300350       2345.055424   1086.928974          NaN\nmin          1.000000       1000.000000      0.000000          NaN\n25%          2.000000       2239.250000     31.000000          NaN\n50%          4.000000       4250.000000     51.000000          NaN\n75%          7.000000       7125.000000     79.000000          NaN\nmax          8.000000       8800.000000  14507.000000          NaN",
      "text/html": "<div>\n<style scoped>\n    .dataframe tbody tr th:only-of-type {\n        vertical-align: middle;\n    }\n\n    .dataframe tbody tr th {\n        vertical-align: top;\n    }\n\n    .dataframe thead th {\n        text-align: right;\n    }\n</style>\n<table border=\"1\" class=\"dataframe\">\n  <thead>\n    <tr style=\"text-align: right;\">\n      <th></th>\n      <th>direktion_code</th>\n      <th>amt_bereich_code</th>\n      <th>wert</th>\n      <th>anmerkung_2</th>\n    </tr>\n  </thead>\n  <tbody>\n    <tr>\n      <th>count</th>\n      <td>768.000000</td>\n      <td>768.000000</td>\n      <td>768.000000</td>\n      <td>0.0</td>\n    </tr>\n    <tr>\n      <th>mean</th>\n      <td>4.416667</td>\n      <td>4689.958333</td>\n      <td>220.325521</td>\n      <td>NaN</td>\n    </tr>\n    <tr>\n      <th>std</th>\n      <td>2.300350</td>\n      <td>2345.055424</td>\n      <td>1086.928974</td>\n      <td>NaN</td>\n    </tr>\n    <tr>\n      <th>min</th>\n      <td>1.000000</td>\n      <td>1000.000000</td>\n      <td>0.000000</td>\n      <td>NaN</td>\n    </tr>\n    <tr>\n      <th>25%</th>\n      <td>2.000000</td>\n      <td>2239.250000</td>\n      <td>31.000000</td>\n      <td>NaN</td>\n    </tr>\n    <tr>\n      <th>50%</th>\n      <td>4.000000</td>\n      <td>4250.000000</td>\n      <td>51.000000</td>\n      <td>NaN</td>\n    </tr>\n    <tr>\n      <th>75%</th>\n      <td>7.000000</td>\n      <td>7125.000000</td>\n      <td>79.000000</td>\n      <td>NaN</td>\n    </tr>\n    <tr>\n      <th>max</th>\n      <td>8.000000</td>\n      <td>8800.000000</td>\n      <td>14507.000000</td>\n      <td>NaN</td>\n    </tr>\n  </tbody>\n</table>\n</div>"
     },
     "execution_count": 975,
     "metadata": {},
     "output_type": "execute_result"
    }
   ],
   "source": [
    "df.describe()"
   ],
   "metadata": {
    "collapsed": false
   }
  },
  {
   "cell_type": "markdown",
   "source": [],
   "metadata": {
    "collapsed": false
   }
  },
  {
   "cell_type": "markdown",
   "source": [
    "## Data cleanup"
   ],
   "metadata": {
    "collapsed": false
   }
  },
  {
   "cell_type": "markdown",
   "source": [
    "### Remove data about part time employees"
   ],
   "metadata": {
    "collapsed": false
   }
  },
  {
   "cell_type": "code",
   "execution_count": 976,
   "outputs": [
    {
     "data": {
      "text/plain": "array(['Anzahl Anstellungen ohne Uebriges Personal (Mitglieder von Behoerden, Lernende, Praktikanten)',\n       'Vollzeit = Beschaeftigungsgrad ≥ 90%',\n       'Teilzeit = Beschaeftigungsgrad < 90%'], dtype=object)"
     },
     "execution_count": 976,
     "metadata": {},
     "output_type": "execute_result"
    }
   ],
   "source": [
    "df.anmerkung_1.unique()"
   ],
   "metadata": {
    "collapsed": false
   }
  },
  {
   "cell_type": "code",
   "execution_count": 977,
   "outputs": [],
   "source": [
    "df = df[df.anmerkung_1 == 'Anzahl Anstellungen ohne Uebriges Personal (Mitglieder von Behoerden, Lernende, Praktikanten)']"
   ],
   "metadata": {
    "collapsed": false
   }
  },
  {
   "cell_type": "markdown",
   "source": [
    "### Simplify date"
   ],
   "metadata": {
    "collapsed": false
   }
  },
  {
   "cell_type": "code",
   "execution_count": 978,
   "outputs": [
    {
     "data": {
      "text/plain": "array(['2020-12-31', '2021-12-31'], dtype=object)"
     },
     "execution_count": 978,
     "metadata": {},
     "output_type": "execute_result"
    }
   ],
   "source": [
    "df.stichtag.unique()"
   ],
   "metadata": {
    "collapsed": false
   }
  },
  {
   "cell_type": "code",
   "execution_count": 979,
   "outputs": [
    {
     "data": {
      "text/plain": "     stichtag  direktion_code                       direktion_name  \\\n0  2020-12-31               1      Regierungsrat und Staatskanzlei   \n1  2020-12-31               1      Regierungsrat und Staatskanzlei   \n2  2020-12-31               2  Direktion der Justiz und des Innern   \n3  2020-12-31               2  Direktion der Justiz und des Innern   \n4  2020-12-31               2  Direktion der Justiz und des Innern   \n\n   amt_bereich_code                 amt_bereich_name indikator  wert  \\\n0              1000  Regierungsrat und Staatskanzlei    Frauen    27   \n1              1000  Regierungsrat und Staatskanzlei   Maenner    43   \n2              2201               Generalsekretariat    Frauen    41   \n3              2201               Generalsekretariat   Maenner    44   \n4              2204               Staatsanwaltschaft    Frauen   289   \n\n                             einheit  \\\n0  Anstellungsverhaeltnisse [Anzahl]   \n1  Anstellungsverhaeltnisse [Anzahl]   \n2  Anstellungsverhaeltnisse [Anzahl]   \n3  Anstellungsverhaeltnisse [Anzahl]   \n4  Anstellungsverhaeltnisse [Anzahl]   \n\n                                         anmerkung_1  anmerkung_2  jahr  \n0  Anzahl Anstellungen ohne Uebriges Personal (Mi...          NaN  2020  \n1  Anzahl Anstellungen ohne Uebriges Personal (Mi...          NaN  2020  \n2  Anzahl Anstellungen ohne Uebriges Personal (Mi...          NaN  2020  \n3  Anzahl Anstellungen ohne Uebriges Personal (Mi...          NaN  2020  \n4  Anzahl Anstellungen ohne Uebriges Personal (Mi...          NaN  2020  ",
      "text/html": "<div>\n<style scoped>\n    .dataframe tbody tr th:only-of-type {\n        vertical-align: middle;\n    }\n\n    .dataframe tbody tr th {\n        vertical-align: top;\n    }\n\n    .dataframe thead th {\n        text-align: right;\n    }\n</style>\n<table border=\"1\" class=\"dataframe\">\n  <thead>\n    <tr style=\"text-align: right;\">\n      <th></th>\n      <th>stichtag</th>\n      <th>direktion_code</th>\n      <th>direktion_name</th>\n      <th>amt_bereich_code</th>\n      <th>amt_bereich_name</th>\n      <th>indikator</th>\n      <th>wert</th>\n      <th>einheit</th>\n      <th>anmerkung_1</th>\n      <th>anmerkung_2</th>\n      <th>jahr</th>\n    </tr>\n  </thead>\n  <tbody>\n    <tr>\n      <th>0</th>\n      <td>2020-12-31</td>\n      <td>1</td>\n      <td>Regierungsrat und Staatskanzlei</td>\n      <td>1000</td>\n      <td>Regierungsrat und Staatskanzlei</td>\n      <td>Frauen</td>\n      <td>27</td>\n      <td>Anstellungsverhaeltnisse [Anzahl]</td>\n      <td>Anzahl Anstellungen ohne Uebriges Personal (Mi...</td>\n      <td>NaN</td>\n      <td>2020</td>\n    </tr>\n    <tr>\n      <th>1</th>\n      <td>2020-12-31</td>\n      <td>1</td>\n      <td>Regierungsrat und Staatskanzlei</td>\n      <td>1000</td>\n      <td>Regierungsrat und Staatskanzlei</td>\n      <td>Maenner</td>\n      <td>43</td>\n      <td>Anstellungsverhaeltnisse [Anzahl]</td>\n      <td>Anzahl Anstellungen ohne Uebriges Personal (Mi...</td>\n      <td>NaN</td>\n      <td>2020</td>\n    </tr>\n    <tr>\n      <th>2</th>\n      <td>2020-12-31</td>\n      <td>2</td>\n      <td>Direktion der Justiz und des Innern</td>\n      <td>2201</td>\n      <td>Generalsekretariat</td>\n      <td>Frauen</td>\n      <td>41</td>\n      <td>Anstellungsverhaeltnisse [Anzahl]</td>\n      <td>Anzahl Anstellungen ohne Uebriges Personal (Mi...</td>\n      <td>NaN</td>\n      <td>2020</td>\n    </tr>\n    <tr>\n      <th>3</th>\n      <td>2020-12-31</td>\n      <td>2</td>\n      <td>Direktion der Justiz und des Innern</td>\n      <td>2201</td>\n      <td>Generalsekretariat</td>\n      <td>Maenner</td>\n      <td>44</td>\n      <td>Anstellungsverhaeltnisse [Anzahl]</td>\n      <td>Anzahl Anstellungen ohne Uebriges Personal (Mi...</td>\n      <td>NaN</td>\n      <td>2020</td>\n    </tr>\n    <tr>\n      <th>4</th>\n      <td>2020-12-31</td>\n      <td>2</td>\n      <td>Direktion der Justiz und des Innern</td>\n      <td>2204</td>\n      <td>Staatsanwaltschaft</td>\n      <td>Frauen</td>\n      <td>289</td>\n      <td>Anstellungsverhaeltnisse [Anzahl]</td>\n      <td>Anzahl Anstellungen ohne Uebriges Personal (Mi...</td>\n      <td>NaN</td>\n      <td>2020</td>\n    </tr>\n  </tbody>\n</table>\n</div>"
     },
     "execution_count": 979,
     "metadata": {},
     "output_type": "execute_result"
    }
   ],
   "source": [
    "df['jahr'] = pd.DatetimeIndex(df['stichtag']).year\n",
    "\n",
    "df.head()"
   ],
   "metadata": {
    "collapsed": false
   }
  },
  {
   "cell_type": "markdown",
   "source": [
    "### Delete redundant columns"
   ],
   "metadata": {
    "collapsed": false
   }
  },
  {
   "cell_type": "code",
   "execution_count": 980,
   "outputs": [
    {
     "data": {
      "text/plain": "                        direktion_name                 amt_bereich_name  \\\n0      Regierungsrat und Staatskanzlei  Regierungsrat und Staatskanzlei   \n1      Regierungsrat und Staatskanzlei  Regierungsrat und Staatskanzlei   \n2  Direktion der Justiz und des Innern               Generalsekretariat   \n3  Direktion der Justiz und des Innern               Generalsekretariat   \n4  Direktion der Justiz und des Innern               Staatsanwaltschaft   \n\n  indikator  wert                            einheit  jahr  \n0    Frauen    27  Anstellungsverhaeltnisse [Anzahl]  2020  \n1   Maenner    43  Anstellungsverhaeltnisse [Anzahl]  2020  \n2    Frauen    41  Anstellungsverhaeltnisse [Anzahl]  2020  \n3   Maenner    44  Anstellungsverhaeltnisse [Anzahl]  2020  \n4    Frauen   289  Anstellungsverhaeltnisse [Anzahl]  2020  ",
      "text/html": "<div>\n<style scoped>\n    .dataframe tbody tr th:only-of-type {\n        vertical-align: middle;\n    }\n\n    .dataframe tbody tr th {\n        vertical-align: top;\n    }\n\n    .dataframe thead th {\n        text-align: right;\n    }\n</style>\n<table border=\"1\" class=\"dataframe\">\n  <thead>\n    <tr style=\"text-align: right;\">\n      <th></th>\n      <th>direktion_name</th>\n      <th>amt_bereich_name</th>\n      <th>indikator</th>\n      <th>wert</th>\n      <th>einheit</th>\n      <th>jahr</th>\n    </tr>\n  </thead>\n  <tbody>\n    <tr>\n      <th>0</th>\n      <td>Regierungsrat und Staatskanzlei</td>\n      <td>Regierungsrat und Staatskanzlei</td>\n      <td>Frauen</td>\n      <td>27</td>\n      <td>Anstellungsverhaeltnisse [Anzahl]</td>\n      <td>2020</td>\n    </tr>\n    <tr>\n      <th>1</th>\n      <td>Regierungsrat und Staatskanzlei</td>\n      <td>Regierungsrat und Staatskanzlei</td>\n      <td>Maenner</td>\n      <td>43</td>\n      <td>Anstellungsverhaeltnisse [Anzahl]</td>\n      <td>2020</td>\n    </tr>\n    <tr>\n      <th>2</th>\n      <td>Direktion der Justiz und des Innern</td>\n      <td>Generalsekretariat</td>\n      <td>Frauen</td>\n      <td>41</td>\n      <td>Anstellungsverhaeltnisse [Anzahl]</td>\n      <td>2020</td>\n    </tr>\n    <tr>\n      <th>3</th>\n      <td>Direktion der Justiz und des Innern</td>\n      <td>Generalsekretariat</td>\n      <td>Maenner</td>\n      <td>44</td>\n      <td>Anstellungsverhaeltnisse [Anzahl]</td>\n      <td>2020</td>\n    </tr>\n    <tr>\n      <th>4</th>\n      <td>Direktion der Justiz und des Innern</td>\n      <td>Staatsanwaltschaft</td>\n      <td>Frauen</td>\n      <td>289</td>\n      <td>Anstellungsverhaeltnisse [Anzahl]</td>\n      <td>2020</td>\n    </tr>\n  </tbody>\n</table>\n</div>"
     },
     "execution_count": 980,
     "metadata": {},
     "output_type": "execute_result"
    }
   ],
   "source": [
    "df = df.drop(['direktion_code', 'amt_bereich_code', 'anmerkung_1', 'anmerkung_2', 'stichtag'], axis=1, errors='ignore')\n",
    "df.head()"
   ],
   "metadata": {
    "collapsed": false
   }
  },
  {
   "cell_type": "markdown",
   "source": [
    "### Separate absolute from relative numbers"
   ],
   "metadata": {
    "collapsed": false
   }
  },
  {
   "cell_type": "code",
   "execution_count": 981,
   "outputs": [
    {
     "data": {
      "text/plain": "array(['Anstellungsverhaeltnisse [Anzahl]', 'Prozent'], dtype=object)"
     },
     "execution_count": 981,
     "metadata": {},
     "output_type": "execute_result"
    }
   ],
   "source": [
    "df.einheit.unique()"
   ],
   "metadata": {
    "collapsed": false
   }
  },
  {
   "cell_type": "code",
   "execution_count": 982,
   "outputs": [
    {
     "data": {
      "text/plain": "                        direktion_name                 amt_bereich_name  \\\n0      Regierungsrat und Staatskanzlei  Regierungsrat und Staatskanzlei   \n1      Regierungsrat und Staatskanzlei  Regierungsrat und Staatskanzlei   \n2  Direktion der Justiz und des Innern               Generalsekretariat   \n3  Direktion der Justiz und des Innern               Generalsekretariat   \n4  Direktion der Justiz und des Innern               Staatsanwaltschaft   \n\n  indikator  wert  jahr  \n0    Frauen    27  2020  \n1   Maenner    43  2020  \n2    Frauen    41  2020  \n3   Maenner    44  2020  \n4    Frauen   289  2020  ",
      "text/html": "<div>\n<style scoped>\n    .dataframe tbody tr th:only-of-type {\n        vertical-align: middle;\n    }\n\n    .dataframe tbody tr th {\n        vertical-align: top;\n    }\n\n    .dataframe thead th {\n        text-align: right;\n    }\n</style>\n<table border=\"1\" class=\"dataframe\">\n  <thead>\n    <tr style=\"text-align: right;\">\n      <th></th>\n      <th>direktion_name</th>\n      <th>amt_bereich_name</th>\n      <th>indikator</th>\n      <th>wert</th>\n      <th>jahr</th>\n    </tr>\n  </thead>\n  <tbody>\n    <tr>\n      <th>0</th>\n      <td>Regierungsrat und Staatskanzlei</td>\n      <td>Regierungsrat und Staatskanzlei</td>\n      <td>Frauen</td>\n      <td>27</td>\n      <td>2020</td>\n    </tr>\n    <tr>\n      <th>1</th>\n      <td>Regierungsrat und Staatskanzlei</td>\n      <td>Regierungsrat und Staatskanzlei</td>\n      <td>Maenner</td>\n      <td>43</td>\n      <td>2020</td>\n    </tr>\n    <tr>\n      <th>2</th>\n      <td>Direktion der Justiz und des Innern</td>\n      <td>Generalsekretariat</td>\n      <td>Frauen</td>\n      <td>41</td>\n      <td>2020</td>\n    </tr>\n    <tr>\n      <th>3</th>\n      <td>Direktion der Justiz und des Innern</td>\n      <td>Generalsekretariat</td>\n      <td>Maenner</td>\n      <td>44</td>\n      <td>2020</td>\n    </tr>\n    <tr>\n      <th>4</th>\n      <td>Direktion der Justiz und des Innern</td>\n      <td>Staatsanwaltschaft</td>\n      <td>Frauen</td>\n      <td>289</td>\n      <td>2020</td>\n    </tr>\n  </tbody>\n</table>\n</div>"
     },
     "execution_count": 982,
     "metadata": {},
     "output_type": "execute_result"
    }
   ],
   "source": [
    "df = df[df.einheit == 'Anstellungsverhaeltnisse [Anzahl]']\n",
    "df = df.drop(columns=['einheit'], axis=1)\n",
    "df.head()"
   ],
   "metadata": {
    "collapsed": false
   }
  },
  {
   "cell_type": "markdown",
   "source": [
    "### Define unique identifier"
   ],
   "metadata": {
    "collapsed": false
   }
  },
  {
   "cell_type": "code",
   "execution_count": 983,
   "outputs": [],
   "source": [
    "df['identifier'] = df['direktion_name'] + ' ' + df['amt_bereich_name']"
   ],
   "metadata": {
    "collapsed": false
   }
  },
  {
   "cell_type": "markdown",
   "source": [
    "## Generate Additional Data for 1980 - 2020"
   ],
   "metadata": {
    "collapsed": false
   }
  },
  {
   "cell_type": "code",
   "execution_count": 984,
   "outputs": [
    {
     "data": {
      "text/plain": "   direktion_name                           amt_bereich_name indikator  wert  \\\n90   Baudirektion  Amt fuer Abfall, Wasser, Energie und Luft    Frauen   0.0   \n91   Baudirektion  Amt fuer Abfall, Wasser, Energie und Luft   Maenner   0.0   \n94   Baudirektion              Amt fuer Landschaft und Natur    Frauen  41.0   \n95   Baudirektion              Amt fuer Landschaft und Natur   Maenner  10.0   \n86   Baudirektion                   Amt fuer Raumentwicklung    Frauen   0.0   \n\n    jahr                                         identifier  \n90  1980  Baudirektion Amt fuer Abfall, Wasser, Energie ...  \n91  1980  Baudirektion Amt fuer Abfall, Wasser, Energie ...  \n94  1980         Baudirektion Amt fuer Landschaft und Natur  \n95  1980         Baudirektion Amt fuer Landschaft und Natur  \n86  1980              Baudirektion Amt fuer Raumentwicklung  ",
      "text/html": "<div>\n<style scoped>\n    .dataframe tbody tr th:only-of-type {\n        vertical-align: middle;\n    }\n\n    .dataframe tbody tr th {\n        vertical-align: top;\n    }\n\n    .dataframe thead th {\n        text-align: right;\n    }\n</style>\n<table border=\"1\" class=\"dataframe\">\n  <thead>\n    <tr style=\"text-align: right;\">\n      <th></th>\n      <th>direktion_name</th>\n      <th>amt_bereich_name</th>\n      <th>indikator</th>\n      <th>wert</th>\n      <th>jahr</th>\n      <th>identifier</th>\n    </tr>\n  </thead>\n  <tbody>\n    <tr>\n      <th>90</th>\n      <td>Baudirektion</td>\n      <td>Amt fuer Abfall, Wasser, Energie und Luft</td>\n      <td>Frauen</td>\n      <td>0.0</td>\n      <td>1980</td>\n      <td>Baudirektion Amt fuer Abfall, Wasser, Energie ...</td>\n    </tr>\n    <tr>\n      <th>91</th>\n      <td>Baudirektion</td>\n      <td>Amt fuer Abfall, Wasser, Energie und Luft</td>\n      <td>Maenner</td>\n      <td>0.0</td>\n      <td>1980</td>\n      <td>Baudirektion Amt fuer Abfall, Wasser, Energie ...</td>\n    </tr>\n    <tr>\n      <th>94</th>\n      <td>Baudirektion</td>\n      <td>Amt fuer Landschaft und Natur</td>\n      <td>Frauen</td>\n      <td>41.0</td>\n      <td>1980</td>\n      <td>Baudirektion Amt fuer Landschaft und Natur</td>\n    </tr>\n    <tr>\n      <th>95</th>\n      <td>Baudirektion</td>\n      <td>Amt fuer Landschaft und Natur</td>\n      <td>Maenner</td>\n      <td>10.0</td>\n      <td>1980</td>\n      <td>Baudirektion Amt fuer Landschaft und Natur</td>\n    </tr>\n    <tr>\n      <th>86</th>\n      <td>Baudirektion</td>\n      <td>Amt fuer Raumentwicklung</td>\n      <td>Frauen</td>\n      <td>0.0</td>\n      <td>1980</td>\n      <td>Baudirektion Amt fuer Raumentwicklung</td>\n    </tr>\n  </tbody>\n</table>\n</div>"
     },
     "execution_count": 984,
     "metadata": {},
     "output_type": "execute_result"
    }
   ],
   "source": [
    "length = int(len(df.jahr) / 2)\n",
    "for year in reversed(range(1981, 2021)):\n",
    "    np.random.seed(4)\n",
    "    change = np.random.normal(-0.1, 0.062, length).reshape(-1, 1)\n",
    "    df_year = df[df.jahr == year].copy()\n",
    "    vals = np.array(df_year.wert).reshape(-1, 1)\n",
    "    df_year.wert = np.floor(vals + change * vals)\n",
    "    df_year.jahr = [year-1] * length\n",
    "    df = pd.concat([df, df_year])\n",
    "\n",
    "df = df.sort_values(['jahr', 'direktion_name', 'amt_bereich_name'], ascending=True)\n",
    "df.head()"
   ],
   "metadata": {
    "collapsed": false
   }
  },
  {
   "cell_type": "code",
   "execution_count": 985,
   "outputs": [
    {
     "data": {
      "text/plain": "   direktion_name                           amt_bereich_name indikator  wert  \\\n90   Baudirektion  Amt fuer Abfall, Wasser, Energie und Luft    Frauen   0.0   \n91   Baudirektion  Amt fuer Abfall, Wasser, Energie und Luft   Maenner   0.0   \n94   Baudirektion              Amt fuer Landschaft und Natur    Frauen  41.0   \n95   Baudirektion              Amt fuer Landschaft und Natur   Maenner  10.0   \n86   Baudirektion                   Amt fuer Raumentwicklung    Frauen   0.0   \n\n    jahr                                         identifier  \n90  1980  Baudirektion Amt fuer Abfall, Wasser, Energie ...  \n91  1980  Baudirektion Amt fuer Abfall, Wasser, Energie ...  \n94  1980         Baudirektion Amt fuer Landschaft und Natur  \n95  1980         Baudirektion Amt fuer Landschaft und Natur  \n86  1980              Baudirektion Amt fuer Raumentwicklung  ",
      "text/html": "<div>\n<style scoped>\n    .dataframe tbody tr th:only-of-type {\n        vertical-align: middle;\n    }\n\n    .dataframe tbody tr th {\n        vertical-align: top;\n    }\n\n    .dataframe thead th {\n        text-align: right;\n    }\n</style>\n<table border=\"1\" class=\"dataframe\">\n  <thead>\n    <tr style=\"text-align: right;\">\n      <th></th>\n      <th>direktion_name</th>\n      <th>amt_bereich_name</th>\n      <th>indikator</th>\n      <th>wert</th>\n      <th>jahr</th>\n      <th>identifier</th>\n    </tr>\n  </thead>\n  <tbody>\n    <tr>\n      <th>90</th>\n      <td>Baudirektion</td>\n      <td>Amt fuer Abfall, Wasser, Energie und Luft</td>\n      <td>Frauen</td>\n      <td>0.0</td>\n      <td>1980</td>\n      <td>Baudirektion Amt fuer Abfall, Wasser, Energie ...</td>\n    </tr>\n    <tr>\n      <th>91</th>\n      <td>Baudirektion</td>\n      <td>Amt fuer Abfall, Wasser, Energie und Luft</td>\n      <td>Maenner</td>\n      <td>0.0</td>\n      <td>1980</td>\n      <td>Baudirektion Amt fuer Abfall, Wasser, Energie ...</td>\n    </tr>\n    <tr>\n      <th>94</th>\n      <td>Baudirektion</td>\n      <td>Amt fuer Landschaft und Natur</td>\n      <td>Frauen</td>\n      <td>41.0</td>\n      <td>1980</td>\n      <td>Baudirektion Amt fuer Landschaft und Natur</td>\n    </tr>\n    <tr>\n      <th>95</th>\n      <td>Baudirektion</td>\n      <td>Amt fuer Landschaft und Natur</td>\n      <td>Maenner</td>\n      <td>10.0</td>\n      <td>1980</td>\n      <td>Baudirektion Amt fuer Landschaft und Natur</td>\n    </tr>\n    <tr>\n      <th>86</th>\n      <td>Baudirektion</td>\n      <td>Amt fuer Raumentwicklung</td>\n      <td>Frauen</td>\n      <td>0.0</td>\n      <td>1980</td>\n      <td>Baudirektion Amt fuer Raumentwicklung</td>\n    </tr>\n  </tbody>\n</table>\n</div>"
     },
     "execution_count": 985,
     "metadata": {},
     "output_type": "execute_result"
    }
   ],
   "source": [
    "df.jahr = df.jahr.astype(int)\n",
    "df.head()"
   ],
   "metadata": {
    "collapsed": false
   }
  },
  {
   "cell_type": "markdown",
   "source": [
    "## Save final dataframes"
   ],
   "metadata": {
    "collapsed": false
   }
  },
  {
   "cell_type": "code",
   "execution_count": 986,
   "outputs": [
    {
     "data": {
      "text/plain": "['../data/clean/employees.dump']"
     },
     "execution_count": 986,
     "metadata": {},
     "output_type": "execute_result"
    }
   ],
   "source": [
    "target_path = Path('../data/clean/employees.dump')\n",
    "dump(df, target_path)"
   ],
   "metadata": {
    "collapsed": false
   }
  },
  {
   "cell_type": "markdown",
   "source": [],
   "metadata": {
    "collapsed": false
   }
  }
 ],
 "metadata": {
  "kernelspec": {
   "display_name": "Python 3",
   "language": "python",
   "name": "python3"
  },
  "language_info": {
   "codemirror_mode": {
    "name": "ipython",
    "version": 2
   },
   "file_extension": ".py",
   "mimetype": "text/x-python",
   "name": "python",
   "nbconvert_exporter": "python",
   "pygments_lexer": "ipython2",
   "version": "2.7.6"
  }
 },
 "nbformat": 4,
 "nbformat_minor": 0
}
